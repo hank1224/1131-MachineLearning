{
 "cells": [
  {
   "cell_type": "markdown",
   "metadata": {},
   "source": [
    "# Assignment 2: Support Vector Machines - SVR\n",
    "\n",
    "Hi all, \n",
    "\n",
    "Please use google to find out SVM python code and then use it to further produce prediction results (regression and classification). \n",
    "\n",
    "With warm regards,\n",
    "\n",
    "Stanley"
   ]
  },
  {
   "cell_type": "markdown",
   "metadata": {},
   "source": [
    "## 支持向量回歸（SVR）\n",
    "\n",
    "SVR是一種用於回歸任務的支持向量機。其目的是找到一個最佳的函數來預測連續型變量。SVR的目標是找到一個函數，使得預測值與實際值之間的誤差在某個容忍範圍內（通常稱為epsilon-insensitive loss）最小化。\n",
    "\n",
    "### 主要特點：\n",
    "- **回歸任務**：SVR適用於預測連續型變量。\n",
    "- **epsilon-insensitive loss**：允許預測值與實際值之間存在一定的誤差（epsilon），在這個範圍內的誤差不會對模型的損失函數產生影響。\n",
    "- **支持向量**：決定回歸函數形狀的數據點。\n",
    "- **核函數**：同樣可以使用不同的核函數來處理線性和非線性回歸問題。"
   ]
  },
  {
   "cell_type": "markdown",
   "metadata": {},
   "source": [
    "## Dataset: California_Housing_Dataset\n",
    "\n",
    "包含了1990年加州各區域的房屋數據，共有20640個樣本，8個特徵。"
   ]
  },
  {
   "cell_type": "code",
   "execution_count": null,
   "metadata": {},
   "outputs": [],
   "source": [
    "from sklearn.datasets import fetch_california_housing\n",
    "\n",
    "# 我用公司網路會被擋，注意一下\n",
    "california = fetch_california_housing(as_frame=True)"
   ]
  },
  {
   "cell_type": "code",
   "execution_count": null,
   "metadata": {},
   "outputs": [],
   "source": [
    "#description of the dataset\n",
    "print(california.DESCR)"
   ]
  },
  {
   "cell_type": "markdown",
   "metadata": {},
   "source": [
    "## 參考資料\n",
    "\n",
    "[scikit-learn-mooc](https://inria.github.io/scikit-learn-mooc/python_scripts/datasets_california_housing.html)\n",
    "\n",
    "[kaggle-California_Housing_Dataset](https://www.kaggle.com/code/olanrewajurasheed/california-housing-dataset)"
   ]
  },
  {
   "cell_type": "markdown",
   "metadata": {},
   "source": [
    "# Code"
   ]
  },
  {
   "cell_type": "markdown",
   "metadata": {},
   "source": [
    "## Importing Libraries"
   ]
  },
  {
   "cell_type": "code",
   "execution_count": null,
   "metadata": {},
   "outputs": [],
   "source": [
    "from sklearn.svm import SVR\n",
    "\n",
    "import pandas as pd\n",
    "import numpy as np\n",
    "\n",
    "import seaborn as sns\n",
    "import matplotlib.pyplot as plt\n",
    "\n",
    "# 讓你的圖形直接嵌入到 Notebook 中，而不是另開視窗。\n",
    "%matplotlib inline"
   ]
  },
  {
   "cell_type": "markdown",
   "metadata": {},
   "source": [
    "## Viewing the Dataset"
   ]
  },
  {
   "cell_type": "code",
   "execution_count": null,
   "metadata": {},
   "outputs": [],
   "source": [
    "california_df = pd.DataFrame(california.data,\n",
    "                             columns=california.feature_names)\n",
    "california_df['MedHouseValue'] = pd.Series(california.target)\n",
    "california_df.head()"
   ]
  },
  {
   "cell_type": "code",
   "execution_count": null,
   "metadata": {},
   "outputs": [],
   "source": [
    "california_df.describe()"
   ]
  },
  {
   "cell_type": "markdown",
   "metadata": {},
   "source": [
    "## Splitting the Data"
   ]
  },
  {
   "cell_type": "code",
   "execution_count": null,
   "metadata": {},
   "outputs": [],
   "source": [
    "from sklearn.model_selection import train_test_split\n",
    "\n",
    "X_train, X_test, y_train, y_test = train_test_split(california.data, california.target, random_state=11, test_size=0.2)"
   ]
  },
  {
   "cell_type": "markdown",
   "metadata": {},
   "source": [
    "## Scaling"
   ]
  },
  {
   "cell_type": "code",
   "execution_count": null,
   "metadata": {},
   "outputs": [],
   "source": [
    "from sklearn.preprocessing import StandardScaler\n",
    "\n",
    "scaler = StandardScaler()\n",
    "X_train = scaler.fit_transform(X_train)\n",
    "X_test = scaler.transform(X_test)"
   ]
  },
  {
   "cell_type": "markdown",
   "metadata": {},
   "source": [
    "## Building the SVR Model"
   ]
  },
  {
   "cell_type": "code",
   "execution_count": null,
   "metadata": {},
   "outputs": [],
   "source": [
    "from sklearn.model_selection import GridSearchCV\n",
    "from joblib import Parallel, delayed\n",
    "\n",
    "model_names = ['SVR Linear', 'SVR RBF']\n",
    "\n",
    "def models(X_train, y_train):\n",
    "\n",
    "    # Define parameter grid for SVR with linear kernel\n",
    "    param_grid_lin = {\n",
    "        'C': [0.1, 1, 10, 100],\n",
    "        'epsilon': [0.01, 0.1, 0.5, 1]\n",
    "    }\n",
    "\n",
    "    # Define parameter grid for SVR with RBF kernel\n",
    "    param_grid_rbf = {\n",
    "        'C': [0.1, 1, 10, 100],\n",
    "        'epsilon': [0.01, 0.1, 0.5, 1],\n",
    "        'gamma': ['scale', 'auto', 0.001, 0.01, 0.1, 1]\n",
    "    }\n",
    "\n",
    "    # Grid search for SVR with linear kernel\n",
    "    print(\"Starting grid search for SVR with linear kernel...\")\n",
    "    svr_lin = SVR(kernel='linear')\n",
    "    grid_search_lin = GridSearchCV(svr_lin, param_grid_lin, cv=5, scoring='neg_mean_squared_error', verbose=3, n_jobs=-1)\n",
    "    grid_search_lin.fit(X_train, y_train)\n",
    "    best_svr_lin = grid_search_lin.best_estimator_\n",
    "    print(\"Grid search for SVR with linear kernel complete.\\n\")\n",
    "\n",
    "    # Grid search for SVR with RBF kernel\n",
    "    print(\"Starting grid search for SVR with RBF kernel...\")\n",
    "    svr_rbf = SVR(kernel='rbf')\n",
    "    grid_search_rbf = GridSearchCV(svr_rbf, param_grid_rbf, cv=5, scoring='neg_mean_squared_error', verbose=3, n_jobs=-1)\n",
    "    grid_search_rbf.fit(X_train, y_train)\n",
    "    best_svr_rbf = grid_search_rbf.best_estimator_\n",
    "    print(\"Grid search for SVR with RBF kernel complete.\\n\")\n",
    "\n",
    "    print('Best SVR Linear Training Accuracy:', best_svr_lin.score(X_train, y_train))\n",
    "    print('Best SVR RBF Training Accuracy:', best_svr_rbf.score(X_train, y_train))\n",
    "\n",
    "    return best_svr_lin, best_svr_rbf"
   ]
  },
  {
   "cell_type": "markdown",
   "metadata": {},
   "source": [
    "## Training the Model"
   ]
  },
  {
   "cell_type": "code",
   "execution_count": null,
   "metadata": {},
   "outputs": [],
   "source": [
    "best_models = models(X_train, y_train)"
   ]
  },
  {
   "cell_type": "markdown",
   "metadata": {},
   "source": [
    "## Evaluating"
   ]
  },
  {
   "cell_type": "code",
   "execution_count": null,
   "metadata": {},
   "outputs": [],
   "source": [
    "from sklearn.metrics import mean_squared_error, r2_score\n",
    "\n",
    "def evaluate_model(best_models, model_names, X_test, y_test):\n",
    "    for i in range(len(model_names)):\n",
    "        print(f'Model: {model_names[i]}')\n",
    "\n",
    "        # Predict\n",
    "        y_pred = best_models[i].predict(X_test)\n",
    "        \n",
    "        # Calculate metrics\n",
    "        mse = mean_squared_error(y_test, y_pred)\n",
    "        r2 = r2_score(y_test, y_pred)\n",
    "        \n",
    "        print(f'Mean Squared Error: {mse}')\n",
    "        print(f'R^2 Score: {r2}')\n",
    "        \n",
    "        # Plot predictions vs actual values\n",
    "        plt.figure(figsize=(10, 5))\n",
    "        plt.scatter(y_test, y_pred, edgecolors=(0, 0, 0))\n",
    "        plt.plot([y_test.min(), y_test.max()], [y_test.min(), y_test.max()], 'k--', lw=3)\n",
    "        plt.xlabel('Actual')\n",
    "        plt.ylabel('Predicted')\n",
    "        plt.title(f'Actual vs Predicted for {model_names[i]}')\n",
    "        plt.show()\n",
    "        \n",
    "        # Plot residuals\n",
    "        residuals = y_test - y_pred\n",
    "        plt.figure(figsize=(10, 5))\n",
    "        plt.scatter(y_pred, residuals, edgecolors=(0, 0, 0))\n",
    "        plt.hlines(y=0, xmin=y_pred.min(), xmax=y_pred.max(), colors='r', linestyles='--')\n",
    "        plt.xlabel('Predicted')\n",
    "        plt.ylabel('Residuals')\n",
    "        plt.title(f'Residuals vs Predicted for {model_names[i]}')\n",
    "        plt.show()\n"
   ]
  },
  {
   "cell_type": "code",
   "execution_count": null,
   "metadata": {},
   "outputs": [],
   "source": [
    "evaluate_model(best_models, model_names, X_test, y_test)"
   ]
  }
 ],
 "metadata": {
  "kernelspec": {
   "display_name": "sklearn",
   "language": "python",
   "name": "python3"
  },
  "language_info": {
   "codemirror_mode": {
    "name": "ipython",
    "version": 3
   },
   "file_extension": ".py",
   "mimetype": "text/x-python",
   "name": "python",
   "nbconvert_exporter": "python",
   "pygments_lexer": "ipython3",
   "version": "3.12.6"
  }
 },
 "nbformat": 4,
 "nbformat_minor": 2
}
