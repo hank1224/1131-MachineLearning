{
 "cells": [
  {
   "cell_type": "markdown",
   "metadata": {},
   "source": [
    "# Assignment 2: Support Vector Machines - SVR\n",
    "\n",
    "Hi all, \n",
    "\n",
    "Please use google to find out SVM python code and then use it to further produce prediction results (regression and classification). \n",
    "\n",
    "With warm regards,\n",
    "\n",
    "Stanley"
   ]
  },
  {
   "cell_type": "markdown",
   "metadata": {},
   "source": [
    "## 支持向量回歸（SVR）\n",
    "\n",
    "SVR是一種用於回歸任務的支持向量機。其目的是找到一個最佳的函數來預測連續型變量。SVR的目標是找到一個函數，使得預測值與實際值之間的誤差在某個容忍範圍內（通常稱為epsilon-insensitive loss）最小化。\n",
    "\n",
    "### 主要特點：\n",
    "- **回歸任務**：SVR適用於預測連續型變量。\n",
    "- **epsilon-insensitive loss**：允許預測值與實際值之間存在一定的誤差（epsilon），在這個範圍內的誤差不會對模型的損失函數產生影響。\n",
    "- **支持向量**：決定回歸函數形狀的數據點。\n",
    "- **核函數**：同樣可以使用不同的核函數來處理線性和非線性回歸問題。"
   ]
  },
  {
   "cell_type": "code",
   "execution_count": null,
   "metadata": {},
   "outputs": [],
   "source": [
    "from sklearn.svm import SVC, SVR\n",
    "\n",
    "# SVC 示例\n",
    "clf = SVC(kernel='linear')\n",
    "clf.fit(X_train, y_train)\n",
    "y_pred = clf.predict(X_test)\n",
    "\n",
    "# SVR 示例\n",
    "reg = SVR(kernel='rbf')\n",
    "reg.fit(X_train, y_train)\n",
    "y_pred = reg.predict(X_test)\n"
   ]
  }
 ],
 "metadata": {
  "kernelspec": {
   "display_name": "sklearn",
   "language": "python",
   "name": "python3"
  },
  "language_info": {
   "name": "python",
   "version": "3.12.6"
  }
 },
 "nbformat": 4,
 "nbformat_minor": 2
}
