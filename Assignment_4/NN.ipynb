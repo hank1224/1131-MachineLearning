{
 "cells": [
  {
   "cell_type": "markdown",
   "metadata": {},
   "source": [
    "# Neural Network\n",
    "\n",
    "Iris dataset\n",
    "\n",
    "Stock prediction"
   ]
  },
  {
   "cell_type": "markdown",
   "metadata": {},
   "source": [
    "## Iris dataset\n",
    "\n",
    "**Multi-class Classification** problem\n",
    "- activation function: softmax\n",
    "- Loss function: categorical cross entropy"
   ]
  },
  {
   "cell_type": "code",
   "execution_count": null,
   "metadata": {},
   "outputs": [],
   "source": [
    "from sklearn import datasets\n",
    "iris = datasets.load_iris()\n",
    "\n",
    "import torch\n",
    "from torch.utils.data import Dataset, DataLoader\n",
    "\n",
    "class IrisDataset(Dataset):\n",
    "    def __init__(self):\n",
    "        # 定義初始化參數\n",
    "        # 讀取資料集路徑\n",
    "        self.data = iris.data\n",
    "        self.target = iris.target\n",
    "    def __getitem__(self, index):\n",
    "        # 讀取每次迭代的資料集中第 idx  資料\n",
    "        # 進行前處理 (torchvision.Transform 等)\n",
    "        return torch.tensor(self.data[index], dtype=torch.float), torch.tensor(self.target[index], dtype=torch.long)\n",
    "    def __len__(self):\n",
    "        # 計算資料集總共數量\n",
    "        return len(self.data)\n",
    "\n",
    "iris_data_loader = DataLoader(IrisDataset(), batch_size=10, shuffle=True)"
   ]
  },
  {
   "cell_type": "code",
   "execution_count": null,
   "metadata": {},
   "outputs": [],
   "source": [
    "import torch.nn as nn\n",
    "import torch.nn.functional as F\n",
    "\n",
    "class IrisModel(nn.Module):\n",
    "    def __init__(self):\n",
    "        super(IrisModel, self).__init__()\n",
    "        self.fc1 = nn.Linear(4, 1000)  # 第一層: 4 -> 1000\n",
    "        self.fc2 = nn.Linear(1000, 500)  # 第二層: 1000 -> 500\n",
    "        self.fc3 = nn.Linear(500, 300)  # 第三層: 500 -> 300\n",
    "        self.dropout = nn.Dropout(0.2)  # Dropout 層\n",
    "        self.fc4 = nn.Linear(300, 3)  # 輸出層: 300 -> 3\n",
    "\n",
    "    def forward(self, x):\n",
    "        x = F.relu(self.fc1(x))  # ReLU 激活函數\n",
    "        x = F.relu(self.fc2(x))  # ReLU 激活函數\n",
    "        x = F.relu(self.fc3(x))  # ReLU 激活函數\n",
    "        x = self.dropout(x)  # Dropout\n",
    "        x = self.fc4(x)  # 最後一層不需要激活函數，因為 CrossEntropyLoss 包含了 Softmax\n",
    "        return x\n",
    "\n",
    "import torch.optim as optim\n",
    "\n",
    "iris_model = IrisModel()\n",
    "iris_criterion = nn.CrossEntropyLoss()\n",
    "iris_optimizer = optim.Adam(iris_model.parameters(), lr=0.001)"
   ]
  },
  {
   "cell_type": "code",
   "execution_count": null,
   "metadata": {},
   "outputs": [],
   "source": [
    "epoch_size = 100\n",
    "\n",
    "for epoch in range(epoch_size):\n",
    "    for i, data in enumerate(iris_data_loader, 0):\n",
    "\n",
    "        inputs, labels = data\n",
    "\n",
    "        iris_optimizer.zero_grad()\n",
    "\n",
    "        outputs = iris_model(inputs)\n",
    "\n",
    "        loss = iris_criterion(outputs, labels)\n",
    "\n",
    "        loss.backward()\n",
    "\n",
    "        iris_optimizer.step()\n",
    "\n",
    "    print('epoch: %d, loss: %.3f' % (epoch + 1, loss.item()))"
   ]
  },
  {
   "cell_type": "markdown",
   "metadata": {},
   "source": [
    "## Stock prediction\n",
    "\n",
    "[Tesla stock data from 2010 to 2020](https://www.kaggle.com/datasets/timoboz/tesla-stock-data-from-2010-to-2020)\n",
    "\n",
    "**Regression** problem\n",
    "- activation function: linear\n",
    "- Loss function: MSE, MAE"
   ]
  },
  {
   "cell_type": "code",
   "execution_count": null,
   "metadata": {},
   "outputs": [],
   "source": [
    "import pandas as pd\n",
    "data = pd.read_csv('./dataset/TSLA.csv')\n",
    "\n",
    "# column: Date,Open,High,Low,Close,Adj Close,Volume\n",
    "# 2010-06-29,19.000000,25.000000,17.540001,23.889999,23.889999,18766300\n",
    "\n",
    "print(data.dtypes)\n",
    "\n",
    "class StockDataset(Dataset):\n",
    "    def __init__(self):\n",
    "        self.data = data\n",
    "    \n",
    "    def __getitem__(self, index):\n",
    "        # 提取 Open, High, Low, Close, Volume 作為特徵\n",
    "        features = torch.tensor(self.data.iloc[index, [1, 2, 3, 4, 6]].astype(float).values, dtype=torch.float)\n",
    "        # 提取 Adj Close 作為標籤\n",
    "        label = torch.tensor(self.data.iloc[index, 4].astype(float), dtype=torch.float)\n",
    "        return features, label\n",
    "    \n",
    "    def __len__(self):\n",
    "        return len(self.data)\n",
    "\n",
    "# 創建 DataLoader\n",
    "stock_data_loader = DataLoader(StockDataset(), batch_size=10, shuffle=True)"
   ]
  },
  {
   "cell_type": "code",
   "execution_count": null,
   "metadata": {},
   "outputs": [],
   "source": [
    "class StockModel(nn.Module):\n",
    "    def __init__(self):\n",
    "        super(StockModel, self).__init__()\n",
    "        self.fc1 = nn.Linear(5, 100)\n",
    "        self.fc2 = nn.Linear(100, 100)\n",
    "        self.fc3 = nn.Linear(100, 1)\n",
    "        self.relu = nn.ReLU()\n",
    "    \n",
    "    def forward(self, x):\n",
    "        x = self.relu(self.fc1(x))\n",
    "        x = self.relu(self.fc2(x))\n",
    "        x = self.fc3(x)\n",
    "        return x\n",
    "\n",
    "stock_model = StockModel()\n"
   ]
  },
  {
   "cell_type": "code",
   "execution_count": null,
   "metadata": {},
   "outputs": [],
   "source": [
    "stock_criterion = nn.MSELoss()\n",
    "stock_optimizer = optim.Adam(stock_model.parameters(), lr=0.001)"
   ]
  },
  {
   "cell_type": "code",
   "execution_count": null,
   "metadata": {},
   "outputs": [],
   "source": [
    "num_epochs = 100\n",
    "for epoch in range(num_epochs):\n",
    "    for i, data in enumerate(stock_data_loader, 0):\n",
    "        features, label = data\n",
    "\n",
    "        label = label.unsqueeze(1)\n",
    "\n",
    "        stock_optimizer.zero_grad()\n",
    "\n",
    "        outputs = stock_model(features)\n",
    "\n",
    "        loss = stock_criterion(outputs, label)\n",
    "\n",
    "        loss.backward()\n",
    "\n",
    "        stock_optimizer.step()\n",
    "\n",
    "    print('epoch: %d, loss: %.3f' % (epoch + 1, loss.item()))"
   ]
  }
 ],
 "metadata": {
  "kernelspec": {
   "display_name": "pytorch",
   "language": "python",
   "name": "python3"
  },
  "language_info": {
   "codemirror_mode": {
    "name": "ipython",
    "version": 3
   },
   "file_extension": ".py",
   "mimetype": "text/x-python",
   "name": "python",
   "nbconvert_exporter": "python",
   "pygments_lexer": "ipython3",
   "version": "3.11.9"
  }
 },
 "nbformat": 4,
 "nbformat_minor": 2
}
