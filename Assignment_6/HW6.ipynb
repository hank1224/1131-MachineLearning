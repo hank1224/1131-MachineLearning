{
 "cells": [
  {
   "cell_type": "markdown",
   "metadata": {},
   "source": [
    "上個作業 k-means 三個變數做 PCA降維\n",
    "\n",
    "隨機森林做iris\n",
    "\n",
    "IRIS做NN再接SVM（第3種）\n",
    "\n",
    "NNIST 0~9 手寫辨識 CNN + LSTM 做成圖表的架構\n",
    "1. Feature Fusion\n",
    "2. Muti-modal Data\n",
    "\n",
    "Upsampling是啥\n",
    "\n",
    "加分：\n",
    "SPP是啥，SPP(Spatial Pyramid Pooling)+yolo"
   ]
  },
  {
   "cell_type": "markdown",
   "metadata": {},
   "source": [
    "# 上個作業 k-means 三個變數做 PCA降維"
   ]
  },
  {
   "cell_type": "code",
   "execution_count": null,
   "metadata": {},
   "outputs": [],
   "source": [
    "from sklearn import datasets\n",
    "from sklearn.cluster import KMeans\n",
    "from sklearn.metrics import accuracy_score, confusion_matrix\n",
    "from sklearn.decomposition import PCA\n",
    "import matplotlib.pyplot as plt\n",
    "import numpy as np\n",
    "\n",
    "# 加載 Iris 資料集\n",
    "iris = datasets.load_iris()\n",
    "X, y = iris.data, iris.target\n",
    "\n",
    "# 應用 K-means 聚類\n",
    "kmeans = KMeans(n_clusters=3, random_state=42)\n",
    "kmeans.fit(X)\n",
    "y_kmeans = kmeans.predict(X)\n",
    "\n",
    "# 將 K-means 聚類結果與真實標籤進行比較\n",
    "# 由於 K-means 聚類的標籤可能與真實標籤不同，我們需要重新標記聚類結果\n",
    "def reassign_labels(y_true, y_pred):\n",
    "    reassigned_labels = np.zeros_like(y_pred)\n",
    "    for i in range(3):\n",
    "        mask = (y_pred == i)\n",
    "        reassigned_labels[mask] = np.bincount(y_true[mask]).argmax()\n",
    "    return reassigned_labels\n",
    "\n",
    "y_kmeans_reassigned = reassign_labels(y, y_kmeans)\n",
    "accuracy = accuracy_score(y, y_kmeans_reassigned)\n",
    "print(f\"Accuracy: {accuracy:.2f}\")\n",
    "\n",
    "# 混淆矩陣\n",
    "conf_matrix = confusion_matrix(y, y_kmeans_reassigned)\n",
    "print(\"Confusion Matrix:\")\n",
    "print(conf_matrix)\n",
    "\n",
    "# 使用 PCA 將資料降到 2 維以便視覺化\n",
    "pca = PCA(n_components=2)\n",
    "X_pca = pca.fit_transform(X)\n",
    "\n",
    "# 視覺化 K-means 聚類結果\n",
    "plt.figure(figsize=(12, 6))\n",
    "\n",
    "plt.subplot(1, 2, 1)\n",
    "plt.scatter(X_pca[:, 0], X_pca[:, 1], c=y, cmap='viridis', edgecolor='k', s=50)\n",
    "plt.title(\"True Labels\")\n",
    "plt.xlabel(\"PCA Component 1\")\n",
    "plt.ylabel(\"PCA Component 2\")\n",
    "\n",
    "plt.subplot(1, 2, 2)\n",
    "plt.scatter(X_pca[:, 0], X_pca[:, 1], c=y_kmeans_reassigned, cmap='viridis', edgecolor='k', s=50)\n",
    "plt.title(\"K-means Clustering\")\n",
    "plt.xlabel(\"PCA Component 1\")\n",
    "plt.ylabel(\"PCA Component 2\")\n",
    "\n",
    "plt.tight_layout()\n",
    "plt.show()\n"
   ]
  },
  {
   "cell_type": "markdown",
   "metadata": {},
   "source": [
    "# 隨機森林做iris"
   ]
  },
  {
   "cell_type": "code",
   "execution_count": null,
   "metadata": {},
   "outputs": [],
   "source": []
  },
  {
   "cell_type": "markdown",
   "metadata": {},
   "source": [
    "# IRIS做NN再接SVM（第3種）"
   ]
  }
 ],
 "metadata": {
  "kernelspec": {
   "display_name": "pytorch",
   "language": "python",
   "name": "python3"
  },
  "language_info": {
   "name": "python",
   "version": "3.11.10"
  }
 },
 "nbformat": 4,
 "nbformat_minor": 2
}
