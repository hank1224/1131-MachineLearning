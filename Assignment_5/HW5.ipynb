{
 "cells": [
  {
   "cell_type": "markdown",
   "metadata": {},
   "source": [
    "用 決策樹 畫出iris的圖分類\n",
    "\n",
    "叢集 X是否具備解釋能力\n",
    "1. 只看x k-means 3類，是否具有分類資料能力\n",
    "2. 用那個群去驗證是否正確，正確率多少\n",
    "\n",
    "\n",
    "Hi all, \n",
    "\n",
    "    Please complete following tasks. \n",
    "\n",
    "1. Use Iris dataset to validate decision tree and further derive tree diagram.\n",
    "\n",
    "2. Use k-mean to see the variable prediction power by Iris dataset.\n",
    "\n",
    "With warm regards,\n",
    "\n",
    "Stanley"
   ]
  },
  {
   "cell_type": "markdown",
   "metadata": {},
   "source": [
    "# 1"
   ]
  },
  {
   "cell_type": "code",
   "execution_count": null,
   "metadata": {},
   "outputs": [],
   "source": [
    "from sklearn import datasets\n",
    "from sklearn.model_selection import train_test_split\n",
    "from sklearn.tree import DecisionTreeClassifier, plot_tree\n",
    "from sklearn.metrics import accuracy_score\n",
    "import matplotlib.pyplot as plt\n",
    "\n",
    "# 加載 Iris 資料集\n",
    "iris = datasets.load_iris()\n",
    "X, y = iris.data, iris.target\n",
    "\n",
    "# 分割資料集為訓練集和測試集\n",
    "X_train, X_test, y_train, y_test = train_test_split(X, y, test_size=0.2, random_state=42)\n",
    "\n",
    "# 訓練決策樹模型\n",
    "clf = DecisionTreeClassifier(random_state=42)\n",
    "clf.fit(X_train, y_train)\n",
    "\n",
    "# 預測測試集\n",
    "y_pred = clf.predict(X_test)\n",
    "\n",
    "# 評估模型性能\n",
    "accuracy = accuracy_score(y_test, y_pred)\n",
    "print(f\"Accuracy: {accuracy:.2f}\")\n",
    "\n",
    "# 視覺化決策樹\n",
    "plt.figure(figsize=(15, 10))\n",
    "plot_tree(clf, feature_names=iris.feature_names, class_names=iris.target_names, filled=True, rounded=True)\n",
    "plt.title(\"Decision Tree for Iris Dataset\")\n",
    "plt.show()\n"
   ]
  },
  {
   "cell_type": "markdown",
   "metadata": {},
   "source": [
    "# 2"
   ]
  },
  {
   "cell_type": "code",
   "execution_count": null,
   "metadata": {},
   "outputs": [],
   "source": [
    "from sklearn import datasets\n",
    "from sklearn.cluster import KMeans\n",
    "from sklearn.metrics import accuracy_score, confusion_matrix\n",
    "from sklearn.decomposition import PCA\n",
    "import matplotlib.pyplot as plt\n",
    "import numpy as np\n",
    "\n",
    "# 加載 Iris 資料集\n",
    "iris = datasets.load_iris()\n",
    "X, y = iris.data, iris.target\n",
    "\n",
    "# 應用 K-means 聚類\n",
    "kmeans = KMeans(n_clusters=3, random_state=42)\n",
    "kmeans.fit(X)\n",
    "y_kmeans = kmeans.predict(X)\n",
    "\n",
    "# 將 K-means 聚類結果與真實標籤進行比較\n",
    "# 由於 K-means 聚類的標籤可能與真實標籤不同，我們需要重新標記聚類結果\n",
    "def reassign_labels(y_true, y_pred):\n",
    "    reassigned_labels = np.zeros_like(y_pred)\n",
    "    for i in range(3):\n",
    "        mask = (y_pred == i)\n",
    "        reassigned_labels[mask] = np.bincount(y_true[mask]).argmax()\n",
    "    return reassigned_labels\n",
    "\n",
    "y_kmeans_reassigned = reassign_labels(y, y_kmeans)\n",
    "accuracy = accuracy_score(y, y_kmeans_reassigned)\n",
    "print(f\"Accuracy: {accuracy:.2f}\")\n",
    "\n",
    "# 混淆矩陣\n",
    "conf_matrix = confusion_matrix(y, y_kmeans_reassigned)\n",
    "print(\"Confusion Matrix:\")\n",
    "print(conf_matrix)\n",
    "\n",
    "# 使用 PCA 將資料降到 2 維以便視覺化\n",
    "pca = PCA(n_components=2)\n",
    "X_pca = pca.fit_transform(X)\n",
    "\n",
    "# 視覺化 K-means 聚類結果\n",
    "plt.figure(figsize=(12, 6))\n",
    "\n",
    "plt.subplot(1, 2, 1)\n",
    "plt.scatter(X_pca[:, 0], X_pca[:, 1], c=y, cmap='viridis', edgecolor='k', s=50)\n",
    "plt.title(\"True Labels\")\n",
    "plt.xlabel(\"PCA Component 1\")\n",
    "plt.ylabel(\"PCA Component 2\")\n",
    "\n",
    "plt.subplot(1, 2, 2)\n",
    "plt.scatter(X_pca[:, 0], X_pca[:, 1], c=y_kmeans_reassigned, cmap='viridis', edgecolor='k', s=50)\n",
    "plt.title(\"K-means Clustering\")\n",
    "plt.xlabel(\"PCA Component 1\")\n",
    "plt.ylabel(\"PCA Component 2\")\n",
    "\n",
    "plt.tight_layout()\n",
    "plt.show()\n"
   ]
  }
 ],
 "metadata": {
  "kernelspec": {
   "display_name": "pytorch",
   "language": "python",
   "name": "python3"
  },
  "language_info": {
   "codemirror_mode": {
    "name": "ipython",
    "version": 3
   },
   "file_extension": ".py",
   "mimetype": "text/x-python",
   "name": "python",
   "nbconvert_exporter": "python",
   "pygments_lexer": "ipython3",
   "version": "3.11.10"
  }
 },
 "nbformat": 4,
 "nbformat_minor": 2
}
